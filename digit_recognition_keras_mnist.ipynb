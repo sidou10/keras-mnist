{
 "cells": [
  {
   "cell_type": "code",
   "execution_count": 19,
   "metadata": {},
   "outputs": [
    {
     "name": "stdout",
     "output_type": "stream",
     "text": [
      "Numpy version: 1.13.3\n",
      "Theano version: 0.9.0.dev-425cb8effc7958e8ca376b023d8344b7620a9622\n",
      "Keras version: 2.1.2\n"
     ]
    }
   ],
   "source": [
    "import numpy as np\n",
    "import theano\n",
    "import keras\n",
    "from matplotlib import pyplot as plt\n",
    "%matplotlib inline\n",
    "\n",
    "print(\"Numpy version: {}\".format(np.__version__))\n",
    "print(\"Theano version: {}\".format(theano.__version__))\n",
    "print(\"Keras version: {}\".format(keras.__version__))"
   ]
  },
  {
   "cell_type": "code",
   "execution_count": 20,
   "metadata": {
    "collapsed": true
   },
   "outputs": [],
   "source": [
    "# Load important packages and MNIST dataset from keras\n",
    "\n",
    "# The model : Sequential, perfect for this type of feed-forward CNN\n",
    "from keras.models import Sequential\n",
    "\n",
    "# The \"core\" layers\n",
    "from keras.layers import Dense, Dropout, Activation, Flatten\n",
    "\n",
    "# The CNN layers \n",
    "from keras.layers import Conv2D, MaxPooling2D\n",
    "\n",
    "# Utilities\n",
    "from keras.utils import np_utils\n",
    "\n",
    "# MNIST dataset is included in Keras Library\n",
    "from keras.datasets import mnist"
   ]
  },
  {
   "cell_type": "code",
   "execution_count": 21,
   "metadata": {
    "collapsed": true
   },
   "outputs": [],
   "source": [
    "# The data is pre-shuffled\n",
    "(X_train, y_train), (X_test, y_test) = mnist.load_data()"
   ]
  },
  {
   "cell_type": "markdown",
   "metadata": {},
   "source": [
    "# Data Viz"
   ]
  },
  {
   "cell_type": "code",
   "execution_count": 22,
   "metadata": {},
   "outputs": [
    {
     "name": "stdout",
     "output_type": "stream",
     "text": [
      "(60000, 28, 28)\n",
      "(10000, 28, 28)\n"
     ]
    }
   ],
   "source": [
    "print(X_train.shape)\n",
    "print(X_test.shape)"
   ]
  },
  {
   "cell_type": "markdown",
   "metadata": {},
   "source": [
    "Training set is composed of 60000 images, of size 28x28 pixels. Test set is composed of 10000 images of similar size."
   ]
  },
  {
   "cell_type": "code",
   "execution_count": 23,
   "metadata": {},
   "outputs": [
    {
     "data": {
      "text/plain": [
       "<matplotlib.image.AxesImage at 0x1c1f58b940>"
      ]
     },
     "execution_count": 23,
     "metadata": {},
     "output_type": "execute_result"
    },
    {
     "data": {
      "image/png": "[encoded data removed]",
      "text/plain": [
       "<matplotlib.figure.Figure at 0x1c1c84eda0>"
      ]
     },
     "metadata": {},
     "output_type": "display_data"
    }
   ],
   "source": [
    "# Visualize one image of the set, that corresponds to a 4\n",
    "plt.imshow(X_train[2])"
   ]
  },
  {
   "cell_type": "markdown",
   "metadata": {},
   "source": [
    "# Data Preprocessing"
   ]
  },
  {
   "cell_type": "code",
   "execution_count": 24,
   "metadata": {},
   "outputs": [
    {
     "name": "stdout",
     "output_type": "stream",
     "text": [
      "(60000, 1, 28, 28)\n"
     ]
    }
   ],
   "source": [
    "# Preprocess train and test input sets\n",
    "\n",
    "# With Theano, one has to declare the depth of the image\n",
    "# For ex., 3 in RGB images, 1 here\n",
    "# We should reshape from (n, width, height) to (n, depth, width, height)\n",
    "n_train = X_train.shape[0]\n",
    "n_test = X_test.shape[0]\n",
    "depth = 1\n",
    "height = X_train.shape[1] \n",
    "width = X_train.shape[1]\n",
    "\n",
    "X_train_fit = X_train.reshape(n_train, depth, width, height)\n",
    "X_test_fit = X_test.reshape(n_test, depth, width, height)\n",
    "\n",
    "print(X_train_fit.shape)\n",
    "\n",
    "# Convert and normalize data type to float32\n",
    "X_train_fit = X_train_fit.astype('float32')/255\n",
    "X_test_fit = X_test_fit.astype('float32')/255"
   ]
  },
  {
   "cell_type": "code",
   "execution_count": 25,
   "metadata": {},
   "outputs": [
    {
     "name": "stdout",
     "output_type": "stream",
     "text": [
      "(60000, 10)\n"
     ]
    }
   ],
   "source": [
    "# Preprocess class labels\n",
    "\n",
    "# It should be in the form of a matrix with 10 columns (10 digits)\n",
    "# With a 1 in the true label\n",
    "\n",
    "Y_train = np_utils.to_categorical(y_train,10)\n",
    "Y_test = np_utils.to_categorical(y_test,10)\n",
    "\n",
    "print(Y_train.shape)"
   ]
  },
  {
   "cell_type": "markdown",
   "metadata": {},
   "source": [
    "# Model Architecture"
   ]
  },
  {
   "cell_type": "code",
   "execution_count": 26,
   "metadata": {
    "scrolled": false
   },
   "outputs": [],
   "source": [
    "model = Sequential()\n",
    "\n",
    "model.add(Conv2D(32, (3, 3), activation='relu', input_shape=(1,28,28)))\n",
    "model.add(Conv2D(32, (3, 3), activation='relu'))\n",
    "# Max pooling is a way to reduce # of parameters\n",
    "# Slide a 2x2 pooling filter across the previous layer and take the max of the 4 values\n",
    "model.add(MaxPooling2D(pool_size=(2,2)))\n",
    "# Dropout is a way to regularize\n",
    "model.add(Dropout(0.25))\n",
    "model.add(Flatten())\n",
    "model.add(Dense(128, activation='relu'))\n",
    "model.add(Dropout(0.5))\n",
    "model.add(Dense(10, activation='softmax'))"
   ]
  },
  {
   "cell_type": "code",
   "execution_count": 27,
   "metadata": {},
   "outputs": [],
   "source": [
    "model.compile(loss='categorical_crossentropy',\n",
    "              optimizer='adam',\n",
    "              metrics=['accuracy'])"
   ]
  },
  {
   "cell_type": "markdown",
   "metadata": {},
   "source": [
    "# Model fit"
   ]
  },
  {
   "cell_type": "code",
   "execution_count": 28,
   "metadata": {},
   "outputs": [
    {
     "name": "stdout",
     "output_type": "stream",
     "text": [
      "Epoch 1/10\n",
      "60000/60000 [==============================] - 161s 3ms/step - loss: 0.2035 - acc: 0.9377\n",
      "Epoch 2/10\n",
      "60000/60000 [==============================] - 190s 3ms/step - loss: 0.0871 - acc: 0.9735\n",
      "Epoch 3/10\n",
      "60000/60000 [==============================] - 171s 3ms/step - loss: 0.0661 - acc: 0.9791\n",
      "Epoch 4/10\n",
      "60000/60000 [==============================] - 187s 3ms/step - loss: 0.0526 - acc: 0.9839\n",
      "Epoch 5/10\n",
      "60000/60000 [==============================] - 201s 3ms/step - loss: 0.0481 - acc: 0.9855\n",
      "Epoch 6/10\n",
      "60000/60000 [==============================] - 192s 3ms/step - loss: 0.0413 - acc: 0.9870\n",
      "Epoch 7/10\n",
      "60000/60000 [==============================] - 211s 4ms/step - loss: 0.0365 - acc: 0.9886\n",
      "Epoch 8/10\n",
      "60000/60000 [==============================] - 197s 3ms/step - loss: 0.0334 - acc: 0.9893\n",
      "Epoch 9/10\n",
      "60000/60000 [==============================] - 199s 3ms/step - loss: 0.0305 - acc: 0.9903\n",
      "Epoch 10/10\n",
      "60000/60000 [==============================] - 182s 3ms/step - loss: 0.0293 - acc: 0.9905\n"
     ]
    },
    {
     "data": {
      "text/plain": [
       "<keras.callbacks.History at 0x1c2de2c9e8>"
      ]
     },
     "execution_count": 28,
     "metadata": {},
     "output_type": "execute_result"
    }
   ],
   "source": [
    "model.fit(X_train_fit, Y_train, \n",
    "          batch_size=32, epochs=10, verbose=1)"
   ]
  },
  {
   "cell_type": "markdown",
   "metadata": {},
   "source": [
    "# Model Evaluation"
   ]
  },
  {
   "cell_type": "code",
   "execution_count": 29,
   "metadata": {},
   "outputs": [
    {
     "name": "stdout",
     "output_type": "stream",
     "text": [
      "Accuracy: [0.02688332954113198, 0.99180000000000001]\n"
     ]
    }
   ],
   "source": [
    "score = model.evaluate(X_test_fit, Y_test, verbose=0)\n",
    "print(\"Accuracy: {}\".format(score))"
   ]
  },
  {
   "cell_type": "code",
   "execution_count": 40,
   "metadata": {},
   "outputs": [
    {
     "name": "stdout",
     "output_type": "stream",
     "text": [
      "Prediction for this image is: [  2.42639343e-15   9.13434519e-12   8.10528700e-10   9.72714242e-10\n",
      "   6.49455804e-14   7.51572705e-16   1.43996328e-20   1.00000000e+00\n",
      "   1.76759970e-14   1.56440438e-09]\n"
     ]
    },
    {
     "data": {
      "image/png": "[encoded data removed]",
      "text/plain": [
       "<matplotlib.figure.Figure at 0x1115d1e10>"
      ]
     },
     "metadata": {},
     "output_type": "display_data"
    }
   ],
   "source": [
    "idx_image = 0\n",
    "plt.imshow(X_test[idx_image])\n",
    "X_test_fit.shape\n",
    "print(\"Prediction for this image is: {}\".format(model.predict(X_test_fit)[idx_image]))\n",
    "\n",
    "#X_test_fit.shape"
   ]
  }
 ],
 "metadata": {
  "kernelspec": {
   "display_name": "Python 3",
   "language": "python",
   "name": "python3"
  },
  "language_info": {
   "codemirror_mode": {
    "name": "ipython",
    "version": 3
   },
   "file_extension": ".py",
   "mimetype": "text/x-python",
   "name": "python",
   "nbconvert_exporter": "python",
   "pygments_lexer": "ipython3",
   "version": "3.6.3"
  }
 },
 "nbformat": 4,
 "nbformat_minor": 2
}
