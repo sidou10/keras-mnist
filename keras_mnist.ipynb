{
 "cells": [
  {
   "cell_type": "code",
   "execution_count": 13,
   "metadata": {},
   "outputs": [
    {
     "name": "stdout",
     "output_type": "stream",
     "text": [
      "Numpy version: 1.13.3\n",
      "Theano version: 0.9.0.dev-425cb8effc7958e8ca376b023d8344b7620a9622\n",
      "Keras version: 2.1.2\n"
     ]
    }
   ],
   "source": [
    "import numpy as np\n",
    "import theano\n",
    "import keras\n",
    "from matplotlib import pyplot as plt\n",
    "%matplotlib inline\n",
    "\n",
    "print(\"Numpy version: {}\".format(np.__version__))\n",
    "print(\"Theano version: {}\".format(theano.__version__))\n",
    "print(\"Keras version: {}\".format(keras.__version__))"
   ]
  },
  {
   "cell_type": "code",
   "execution_count": 33,
   "metadata": {
    "collapsed": true
   },
   "outputs": [],
   "source": [
    "# Load important packages and MNIST dataset from keras\n",
    "\n",
    "# The model : Sequential, perfect for this type of feed-forward CNN\n",
    "from keras.models import Sequential\n",
    "\n",
    "# The \"core\" layers\n",
    "from keras.layers import Dense, Dropout, Activation, Flatten\n",
    "\n",
    "# The CNN layers \n",
    "from keras.layers import Conv2D, MaxPooling2D\n",
    "\n",
    "# Utilities\n",
    "from keras.utils import np_utils\n",
    "\n",
    "# MNIST dataset is included in Keras Library\n",
    "from keras.datasets import mnist"
   ]
  },
  {
   "cell_type": "code",
   "execution_count": 25,
   "metadata": {},
   "outputs": [],
   "source": [
    "# The data is pre-shuffled\n",
    "(X_train, y_train), (X_test, y_test) = mnist.load_data()"
   ]
  },
  {
   "cell_type": "markdown",
   "metadata": {},
   "source": [
    "# Data Viz"
   ]
  },
  {
   "cell_type": "code",
   "execution_count": 26,
   "metadata": {},
   "outputs": [
    {
     "name": "stdout",
     "output_type": "stream",
     "text": [
      "(60000, 28, 28)\n",
      "(10000, 28, 28)\n"
     ]
    }
   ],
   "source": [
    "print(X_train.shape)\n",
    "print(X_test.shape)"
   ]
  },
  {
   "cell_type": "markdown",
   "metadata": {},
   "source": [
    "Training set is composed of 60000 images, of size 28x28 pixels. Test set is composed of 10000 images of similar size."
   ]
  },
  {
   "cell_type": "code",
   "execution_count": 27,
   "metadata": {},
   "outputs": [
    {
     "data": {
      "text/plain": [
       "<matplotlib.image.AxesImage at 0x1c170657b8>"
      ]
     },
     "execution_count": 27,
     "metadata": {},
     "output_type": "execute_result"
    },
    {
     "data": {
      "image/png": "[encoded data removed]",
      "text/plain": [
       "<matplotlib.figure.Figure at 0x1c17c56048>"
      ]
     },
     "metadata": {},
     "output_type": "display_data"
    }
   ],
   "source": [
    "# Visualize one image of the set, that corresponds to a 4\n",
    "plt.imshow(X_train[2])"
   ]
  },
  {
   "cell_type": "markdown",
   "metadata": {},
   "source": [
    "# Data Preprocessing"
   ]
  },
  {
   "cell_type": "code",
   "execution_count": 28,
   "metadata": {},
   "outputs": [
    {
     "name": "stdout",
     "output_type": "stream",
     "text": [
      "(60000, 1, 28, 28)\n"
     ]
    }
   ],
   "source": [
    "# Preprocess train and test input sets\n",
    "\n",
    "# With Theano, one has to declare the depth of the image\n",
    "# For ex., 3 in RGB images, 1 here\n",
    "# We should reshape from (n, width, height) to (n, depth, width, height)\n",
    "n_train = X_train.shape[0]\n",
    "n_test = X_test.shape[0]\n",
    "depth = 1\n",
    "height = X_train.shape[1] \n",
    "width = X_train.shape[1]\n",
    "\n",
    "X_train = X_train.reshape(n_train, depth, width, height)\n",
    "X_test = X_test.reshape(n_test, depth, width, height)\n",
    "\n",
    "print(X_train.shape)\n",
    "\n",
    "# Convert and normalize data type to float32\n",
    "X_train = X_train.astype('float32')/255\n",
    "X_test = X_test.astype('float32')/255"
   ]
  },
  {
   "cell_type": "code",
   "execution_count": 29,
   "metadata": {},
   "outputs": [
    {
     "name": "stdout",
     "output_type": "stream",
     "text": [
      "(60000, 10)\n"
     ]
    }
   ],
   "source": [
    "# Preprocess class labels\n",
    "\n",
    "# It should be in the form of a matrix with 10 columns (10 digits)\n",
    "# With a 1 in the true label\n",
    "\n",
    "Y_train = np_utils.to_categorical(y_train,10)\n",
    "Y_test = np_utils.to_categorical(y_test,10)\n",
    "\n",
    "print(Y_train.shape)"
   ]
  },
  {
   "cell_type": "markdown",
   "metadata": {},
   "source": [
    "# Model Architecture"
   ]
  },
  {
   "cell_type": "code",
   "execution_count": 36,
   "metadata": {
    "scrolled": false
   },
   "outputs": [],
   "source": [
    "model = Sequential()\n",
    "\n",
    "model.add(Conv2D(32, (3, 3), activation='relu', input_shape=(1,28,28)))\n",
    "model.add(Conv2D(32, (3, 3), activation='relu'))\n",
    "# Max pooling is a way to reduce # of parameters\n",
    "model.add(MaxPooling2D(pool_size=(2,2)))\n",
    "# Dropout is to regularize\n",
    "model.add(Dropout(0.25))\n",
    "model.add(Flatten())\n",
    "#model.add(Dense(128, activation='relu'))\n",
    "model.add(Dropout(0.5))\n",
    "#model.add(Dense(10, activation='softmax'))"
   ]
  },
  {
   "cell_type": "code",
   "execution_count": 37,
   "metadata": {
    "collapsed": true
   },
   "outputs": [],
   "source": [
    "model.compile(loss='categorical_crossentropy',\n",
    "              optimizer='adam',\n",
    "              metrics=['accuracy'])"
   ]
  },
  {
   "cell_type": "code",
   "execution_count": null,
   "metadata": {
    "collapsed": true
   },
   "outputs": [],
   "source": [
    "model.fit(X_train, )"
   ]
  }
 ],
 "metadata": {
  "kernelspec": {
   "display_name": "Python 3",
   "language": "python",
   "name": "python3"
  },
  "language_info": {
   "codemirror_mode": {
    "name": "ipython",
    "version": 3
   },
   "file_extension": ".py",
   "mimetype": "text/x-python",
   "name": "python",
   "nbconvert_exporter": "python",
   "pygments_lexer": "ipython3",
   "version": "3.6.3"
  }
 },
 "nbformat": 4,
 "nbformat_minor": 2
}
